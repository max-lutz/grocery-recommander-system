{
 "cells": [
  {
   "cell_type": "code",
   "execution_count": 16,
   "id": "752653a4",
   "metadata": {},
   "outputs": [],
   "source": [
    "import numpy as np\n",
    "import pandas as pd\n",
    "from tqdm import tqdm\n",
    "from scipy.sparse import csr_matrix, hstack, save_npz, load_npz"
   ]
  },
  {
   "cell_type": "code",
   "execution_count": 17,
   "id": "be50024f",
   "metadata": {},
   "outputs": [],
   "source": [
    "# def wrap_create_sparse_df(df, n_cols, n_rows, col_to_sparse_df, value_to_sparse_df, row_id):\n",
    "#     df_sparse = pd.DataFrame()\n",
    "#     for i in tqdm(range(n_cols)):\n",
    "#         a = np.empty((n_rows))\n",
    "#         a[:] = 0\n",
    "\n",
    "#         df_product = df[df[col_to_sparse_df] == i+1]\n",
    "#         for c in df_product[value_to_sparse_df].unique():\n",
    "#             df_p = df_product[df_product[\"count\"] == c]\n",
    "#             a[df_p[row_id].to_list()] = c\n",
    "#         df_sparse[str(i)] = pd.arrays.SparseArray(a, dtype=float, fill_value=0)\n",
    "#     return df_sparse"
   ]
  },
  {
   "cell_type": "code",
   "execution_count": 18,
   "id": "44009826",
   "metadata": {},
   "outputs": [],
   "source": [
    "# def create_sparse_df(df, col_to_sparse_df, row_id):\n",
    "#     value_to_sparse_df = \"count\"\n",
    "#     df_exploded = df.explode(col_to_sparse_df)   # in case the column contains a list\n",
    "#     df_exploded[value_to_sparse_df] = 1          # this column is used to keep track of the sparse value\n",
    "    \n",
    "#     df_exploded_grouped = df_exploded.groupby([col_to_sparse_df, row_id])[value_to_sparse_df].sum().reset_index()\n",
    "#     n_cols = df_exploded_grouped[col_to_sparse_df].max()\n",
    "#     n_rows = df_exploded_grouped[row_id].max() + 1\n",
    "    \n",
    "#     df_sparse = wrap_create_sparse_df(df_exploded_grouped, n_cols, n_rows, col_to_sparse_df, value_to_sparse_df, row_id)\n",
    "#     return df_sparse"
   ]
  },
  {
   "cell_type": "code",
   "execution_count": 20,
   "id": "67bc6e1e",
   "metadata": {},
   "outputs": [],
   "source": [
    "# df_product_to_sparse = df_order_products[[\"order_id\", \"product_id\"]]\n",
    "# df_sparse_product = create_sparse_df(df_product_to_sparse, col_to_sparse_df=\"product_id\", row_id=\"order_id\")\n",
    "# del df_product_to_sparse\n",
    "# df_sparse_product"
   ]
  },
  {
   "cell_type": "code",
   "execution_count": null,
   "id": "f6a05250",
   "metadata": {},
   "outputs": [],
   "source": []
  },
  {
   "cell_type": "code",
   "execution_count": 46,
   "id": "ae3fb39c",
   "metadata": {},
   "outputs": [],
   "source": [
    "df_order_products = pd.read_csv(\"../data/raw/order_products__prior.csv\")"
   ]
  },
  {
   "cell_type": "code",
   "execution_count": 47,
   "id": "33c9192b",
   "metadata": {},
   "outputs": [
    {
     "data": {
      "text/plain": [
       "9151"
      ]
     },
     "execution_count": 47,
     "metadata": {},
     "output_type": "execute_result"
    }
   ],
   "source": [
    "df_order_products[\"count\"] = 1\n",
    "df = df_order_products.groupby([\"product_id\"])[\"count\"].sum().reset_index()\n",
    "df[\"percentage\"] = df[\"count\"]/len(df_order_products)\n",
    "df = df.sort_values(\"percentage\", ascending=False)\n",
    "df[\"cumulative_percentage\"] = df[\"percentage\"].cumsum()\n",
    "most_sold_products = df[df[\"cumulative_percentage\"] < 0.90][\"product_id\"].to_list()\n",
    "len(most_sold_products)"
   ]
  },
  {
   "cell_type": "code",
   "execution_count": 48,
   "id": "46496038",
   "metadata": {},
   "outputs": [
    {
     "data": {
      "text/html": [
       "<div>\n",
       "<style scoped>\n",
       "    .dataframe tbody tr th:only-of-type {\n",
       "        vertical-align: middle;\n",
       "    }\n",
       "\n",
       "    .dataframe tbody tr th {\n",
       "        vertical-align: top;\n",
       "    }\n",
       "\n",
       "    .dataframe thead th {\n",
       "        text-align: right;\n",
       "    }\n",
       "</style>\n",
       "<table border=\"1\" class=\"dataframe\">\n",
       "  <thead>\n",
       "    <tr style=\"text-align: right;\">\n",
       "      <th></th>\n",
       "      <th>order_id</th>\n",
       "      <th>product_id</th>\n",
       "      <th>add_to_cart_order</th>\n",
       "      <th>reordered</th>\n",
       "      <th>count</th>\n",
       "    </tr>\n",
       "  </thead>\n",
       "  <tbody>\n",
       "    <tr>\n",
       "      <th>0</th>\n",
       "      <td>2</td>\n",
       "      <td>33120</td>\n",
       "      <td>1</td>\n",
       "      <td>1</td>\n",
       "      <td>1</td>\n",
       "    </tr>\n",
       "    <tr>\n",
       "      <th>1</th>\n",
       "      <td>2</td>\n",
       "      <td>28985</td>\n",
       "      <td>2</td>\n",
       "      <td>1</td>\n",
       "      <td>1</td>\n",
       "    </tr>\n",
       "    <tr>\n",
       "      <th>2</th>\n",
       "      <td>2</td>\n",
       "      <td>9327</td>\n",
       "      <td>3</td>\n",
       "      <td>0</td>\n",
       "      <td>1</td>\n",
       "    </tr>\n",
       "    <tr>\n",
       "      <th>3</th>\n",
       "      <td>2</td>\n",
       "      <td>45918</td>\n",
       "      <td>4</td>\n",
       "      <td>1</td>\n",
       "      <td>1</td>\n",
       "    </tr>\n",
       "    <tr>\n",
       "      <th>4</th>\n",
       "      <td>2</td>\n",
       "      <td>30035</td>\n",
       "      <td>5</td>\n",
       "      <td>0</td>\n",
       "      <td>1</td>\n",
       "    </tr>\n",
       "    <tr>\n",
       "      <th>...</th>\n",
       "      <td>...</td>\n",
       "      <td>...</td>\n",
       "      <td>...</td>\n",
       "      <td>...</td>\n",
       "      <td>...</td>\n",
       "    </tr>\n",
       "    <tr>\n",
       "      <th>32434484</th>\n",
       "      <td>3421083</td>\n",
       "      <td>39678</td>\n",
       "      <td>6</td>\n",
       "      <td>1</td>\n",
       "      <td>1</td>\n",
       "    </tr>\n",
       "    <tr>\n",
       "      <th>32434485</th>\n",
       "      <td>3421083</td>\n",
       "      <td>11352</td>\n",
       "      <td>7</td>\n",
       "      <td>0</td>\n",
       "      <td>1</td>\n",
       "    </tr>\n",
       "    <tr>\n",
       "      <th>32434486</th>\n",
       "      <td>3421083</td>\n",
       "      <td>4600</td>\n",
       "      <td>8</td>\n",
       "      <td>0</td>\n",
       "      <td>1</td>\n",
       "    </tr>\n",
       "    <tr>\n",
       "      <th>32434487</th>\n",
       "      <td>3421083</td>\n",
       "      <td>24852</td>\n",
       "      <td>9</td>\n",
       "      <td>1</td>\n",
       "      <td>1</td>\n",
       "    </tr>\n",
       "    <tr>\n",
       "      <th>32434488</th>\n",
       "      <td>3421083</td>\n",
       "      <td>5020</td>\n",
       "      <td>10</td>\n",
       "      <td>1</td>\n",
       "      <td>1</td>\n",
       "    </tr>\n",
       "  </tbody>\n",
       "</table>\n",
       "<p>29190861 rows × 5 columns</p>\n",
       "</div>"
      ],
      "text/plain": [
       "          order_id  product_id  add_to_cart_order  reordered  count\n",
       "0                2       33120                  1          1      1\n",
       "1                2       28985                  2          1      1\n",
       "2                2        9327                  3          0      1\n",
       "3                2       45918                  4          1      1\n",
       "4                2       30035                  5          0      1\n",
       "...            ...         ...                ...        ...    ...\n",
       "32434484   3421083       39678                  6          1      1\n",
       "32434485   3421083       11352                  7          0      1\n",
       "32434486   3421083        4600                  8          0      1\n",
       "32434487   3421083       24852                  9          1      1\n",
       "32434488   3421083        5020                 10          1      1\n",
       "\n",
       "[29190861 rows x 5 columns]"
      ]
     },
     "execution_count": 48,
     "metadata": {},
     "output_type": "execute_result"
    }
   ],
   "source": [
    "df_orders = df_order_products[df_order_products[\"product_id\"].isin(most_sold_products)]\n",
    "df_orders"
   ]
  },
  {
   "cell_type": "code",
   "execution_count": null,
   "id": "9f03f5d7",
   "metadata": {},
   "outputs": [],
   "source": []
  },
  {
   "cell_type": "code",
   "execution_count": null,
   "id": "8412840a",
   "metadata": {},
   "outputs": [],
   "source": []
  }
 ],
 "metadata": {
  "kernelspec": {
   "display_name": "Python 3",
   "language": "python",
   "name": "python3"
  },
  "language_info": {
   "codemirror_mode": {
    "name": "ipython",
    "version": 3
   },
   "file_extension": ".py",
   "mimetype": "text/x-python",
   "name": "python",
   "nbconvert_exporter": "python",
   "pygments_lexer": "ipython3",
   "version": "3.9.17"
  }
 },
 "nbformat": 4,
 "nbformat_minor": 5
}
